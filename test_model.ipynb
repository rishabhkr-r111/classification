{
 "cells": [
  {
   "cell_type": "code",
   "execution_count": 2,
   "metadata": {},
   "outputs": [],
   "source": [
    "from keras.models import load_model\n",
    "import cv2\n",
    "import numpy as np\n"
   ]
  },
  {
   "cell_type": "code",
   "execution_count": 3,
   "metadata": {},
   "outputs": [],
   "source": [
    "class_labels = [\"Aadhaar\", \"PAN\", \"Driving Licence\",\n",
    "                \"Voter ID\", \"Passport\"]\n"
   ]
  },
  {
   "cell_type": "code",
   "execution_count": 4,
   "metadata": {},
   "outputs": [],
   "source": [
    "model = load_model(\"classifier_model.h5\")\n",
    "\n",
    "\n",
    "def preprocess_image(image_path):\n",
    "    img = cv2.imread(image_path)\n",
    "    img = cv2.resize(img, (224, 224))\n",
    "    img = img / 255.0\n",
    "    img = np.expand_dims(img, axis=0)  # Add an extra dimension for batch size\n",
    "    return img\n"
   ]
  },
  {
   "cell_type": "code",
   "execution_count": 9,
   "metadata": {},
   "outputs": [
    {
     "name": "stdout",
     "output_type": "stream",
     "text": [
      "1/1 [==============================] - 0s 72ms/step\n",
      "[[1.113782e-04 9.993728e-01 7.380847e-05 4.421499e-04 2.387265e-10]]\n",
      "Predicted Class: PAN\n"
     ]
    }
   ],
   "source": [
    "input_image_path = \"test_images/private/pan.jpeg\"\n",
    "\n",
    "input_image = preprocess_image(input_image_path)\n",
    "\n",
    "# Make predictions on the input image\n",
    "predictions = model.predict(input_image)\n",
    "print(predictions)\n",
    "#class_labels = [\"Aadhaar\", \"PAN\", \"Driving Licence\", \"Voter ID\", \"Passport\"]\n",
    "predicted_class_index = np.argmax(predictions)\n",
    "predicted_class = class_labels[predicted_class_index]\n",
    "\n",
    "print(\"Predicted Class:\", predicted_class)\n"
   ]
  }
 ],
 "metadata": {
  "kernelspec": {
   "display_name": "Python 3.11.0 64-bit",
   "language": "python",
   "name": "python3"
  },
  "language_info": {
   "codemirror_mode": {
    "name": "ipython",
    "version": 3
   },
   "file_extension": ".py",
   "mimetype": "text/x-python",
   "name": "python",
   "nbconvert_exporter": "python",
   "pygments_lexer": "ipython3",
   "version": "3.11.0"
  },
  "orig_nbformat": 4,
  "vscode": {
   "interpreter": {
    "hash": "a9a423954ee229af0a5fba9e0997780b2270f7adb03941acbfb2aac3a098f2f3"
   }
  }
 },
 "nbformat": 4,
 "nbformat_minor": 2
}
